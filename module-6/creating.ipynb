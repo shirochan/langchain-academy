{
 "cells": [
  {
   "cell_type": "markdown",
   "metadata": {},
   "source": "# デプロイメントの作成\n\nModule 5で作成した`task_maistro`アプリのデプロイメントを作成しましょう。\n\n## コード構造\n\nLangGraph Platformデプロイメントを作成するために[以下の情報を提供する必要があります](https://langchain-ai.github.io/langgraph/concepts/application_structure/)：\n\n* [LangGraph API設定ファイル](https://langchain-ai.github.io/langgraph/concepts/application_structure/#configuration-file) - `langgraph.json`\n* アプリケーションのロジックを実装するグラフ - 例：`task_maistro.py`\n* アプリケーションの実行に必要な依存関係を指定するファイル - `requirements.txt`\n* アプリケーションの実行に必要な環境変数を提供 - `.env`または`docker-compose.yml`\n\nこれらは既に`module-6/deployment`ディレクトリにあります！\n\n## CLI\n\n[LangGraph CLI](https://langchain-ai.github.io/langgraph/concepts/langgraph_cli/)は、LangGraph Platformデプロイメントを作成するためのコマンドラインインターフェースです。",
   "outputs": []
  },
  {
   "cell_type": "code",
   "execution_count": 1,
   "metadata": {},
   "outputs": [],
   "source": [
    "%%capture --no-stderr\n",
    "%pip install -U langgraph-cli"
   ]
  },
  {
   "cell_type": "markdown",
   "metadata": {},
   "source": "[セルフホストデプロイメント](https://langchain-ai.github.io/langgraph/how-tos/deploy-self-hosted/#how-to-do-a-self-hosted-deployment-of-langgraph)を作成するために、いくつかのステップに従います。\n\n### LangGraph Server用のDockerイメージを構築\n\nまず、langgraph CLIを使用して[LangGraph Server](https://docs.google.com/presentation/d/18MwIaNR2m4Oba6roK_2VQcBE_8Jq_SI7VHTXJdl7raU/edit#slide=id.g313fb160676_0_32)のDockerイメージを作成します。\n\nこれにより、グラフと依存関係がDockerイメージにパッケージ化されます。\n\nDockerイメージは、アプリケーションの実行に必要なコードと依存関係を含むDockerコンテナのテンプレートです。\n\n[Docker](https://docs.docker.com/engine/install/)がインストールされていることを確認してから、以下のコマンドを実行してDockerイメージ`my-image`を作成します：\n\n```\n$ cd module-6/deployment\n$ langgraph build -t my-image\n```\n\n### RedisとPostgreSQLのセットアップ\n\nRedisとPostgreSQLが既に実行されている場合（例：ローカルまたは他のサーバー上）、RedisとPostgreSQLのURIを使用してLangGraphサーバーコンテナを[単独で](https://langchain-ai.github.io/langgraph/how-tos/deploy-self-hosted/#running-the-application-locally)作成し実行します：\n\n```\ndocker run \\\n    --env-file .env \\\n    -p 8123:8000 \\\n    -e REDIS_URI=\"foo\" \\\n    -e DATABASE_URI=\"bar\" \\\n    -e LANGSMITH_API_KEY=\"baz\" \\\n    my-image\n```\n\nあるいは、提供された`docker-compose.yml`ファイルを使用して、定義されたサービスに基づいて3つの別々のコンテナを作成できます：\n\n* `langgraph-redis`: 公式Redisイメージを使用して新しいコンテナを作成。\n* `langgraph-postgres`: 公式Postgresイメージを使用して新しいコンテナを作成。\n* `langgraph-api`: 事前に構築されたイメージを使用して新しいコンテナを作成。\n\n単純に`docker-compose-example.yml`をコピーし、デプロイされた`task_maistro`アプリを実行するために以下の環境変数を追加します：\n\n* `IMAGE_NAME` (例：`my-image`)\n* `LANGSMITH_API_KEY`\n* `OPENAI_API_KEY`\n\nその後、[デプロイメントを起動](https://langchain-ai.github.io/langgraph/how-tos/deploy-self-hosted/#using-docker-compose)します：\n\n```\n$ cd module-6/deployment\n$ docker compose up\n```",
   "outputs": []
  },
  {
   "cell_type": "markdown",
   "metadata": {},
   "source": []
  }
 ],
 "metadata": {
  "kernelspec": {
   "display_name": "Python 3 (ipykernel)",
   "language": "python",
   "name": "python3"
  },
  "language_info": {
   "codemirror_mode": {
    "name": "ipython",
    "version": 3
   },
   "file_extension": ".py",
   "mimetype": "text/x-python",
   "name": "python",
   "nbconvert_exporter": "python",
   "pygments_lexer": "ipython3",
   "version": "3.11.8"
  }
 },
 "nbformat": 4,
 "nbformat_minor": 4
}